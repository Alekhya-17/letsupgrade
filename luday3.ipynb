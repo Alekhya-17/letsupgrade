{
  "nbformat": 4,
  "nbformat_minor": 0,
  "metadata": {
    "colab": {
      "name": "luday3.ipynb",
      "provenance": [],
      "collapsed_sections": []
    },
    "kernelspec": {
      "name": "python3",
      "display_name": "Python 3"
    }
  },
  "cells": [
    {
      "cell_type": "markdown",
      "metadata": {
        "id": "1ai6-7YSSzjG",
        "colab_type": "text"
      },
      "source": [
        "you are all pilots and and it is required that altitude must be less than or equal to 1000ft to the plane to land it,if it is greater than 1000ft and less than or eual to 5000ft send messge\"come down to 1000ft\" and if it greater than 5000 give message as \"turn around and try later\"."
      ]
    },
    {
      "cell_type": "code",
      "metadata": {
        "id": "fJxehBaAPjGz",
        "colab_type": "code",
        "colab": {
          "base_uri": "https://localhost:8080/",
          "height": 54
        },
        "outputId": "282c061b-4371-4c42-d6ed-77d90602a45b"
      },
      "source": [
        "altitude=int(input(\"enter altitude\"))\n",
        "if altitude==1000 or altitude<1000:\n",
        "  print(\"land the plane\")\n",
        "elif altitude>1000 or altitude == 5000 and altitude <5000:\n",
        "  print(\"come down to 1000ft\")\n",
        "elif altitude>5000:\n",
        "  print(\"go around and try later\")\n"
      ],
      "execution_count": 8,
      "outputs": [
        {
          "output_type": "stream",
          "text": [
            "enter altitude5000\n",
            "come down to 1000ft\n"
          ],
          "name": "stdout"
        }
      ]
    },
    {
      "cell_type": "markdown",
      "metadata": {
        "id": "6vvTb91nToFm",
        "colab_type": "text"
      },
      "source": [
        "print all prime numbers between 1- 200 using for loop and range function"
      ]
    },
    {
      "cell_type": "code",
      "metadata": {
        "id": "GTjvNflRSxwb",
        "colab_type": "code",
        "colab": {
          "base_uri": "https://localhost:8080/",
          "height": 862
        },
        "outputId": "bec31ada-5267-4d5b-a76e-199ccd6cfb72"
      },
      "source": [
        "for i in range(2,201):\n",
        "  for j in range(2,i):\n",
        "    if(i%j == 0):\n",
        "      break\n",
        "  else:print(i)   \n",
        "      "
      ],
      "execution_count": 16,
      "outputs": [
        {
          "output_type": "stream",
          "text": [
            "2\n",
            "3\n",
            "5\n",
            "7\n",
            "11\n",
            "13\n",
            "17\n",
            "19\n",
            "23\n",
            "29\n",
            "31\n",
            "37\n",
            "41\n",
            "43\n",
            "47\n",
            "53\n",
            "59\n",
            "61\n",
            "67\n",
            "71\n",
            "73\n",
            "79\n",
            "83\n",
            "89\n",
            "97\n",
            "101\n",
            "103\n",
            "107\n",
            "109\n",
            "113\n",
            "127\n",
            "131\n",
            "137\n",
            "139\n",
            "149\n",
            "151\n",
            "157\n",
            "163\n",
            "167\n",
            "173\n",
            "179\n",
            "181\n",
            "191\n",
            "193\n",
            "197\n",
            "199\n"
          ],
          "name": "stdout"
        }
      ]
    }
  ]
}